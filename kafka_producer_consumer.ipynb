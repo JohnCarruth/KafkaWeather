{
 "cells": [
  {
   "cell_type": "code",
   "execution_count": 1,
   "metadata": {},
   "outputs": [],
   "source": [
    "import requests\n",
    "import json\n",
    "from kafka import KafkaProducer, KafkaConsumer\n",
    "import time\n",
    "import datetime\n",
    "\n",
    "# Define function to query weather API\n",
    "def query_Weather(lat,lon):\n",
    "    API_key = 'e103266e4fc3a04046ac9ce7d493bc86'\n",
    "    base_API_request = 'https://api.openweathermap.org/data/2.5/weather?lat=' + lat + '&lon=' + lon + '&appid=' + API_key\n",
    "    response = requests.get(base_API_request,headers = None)\n",
    "    if response.status_code == 200:\n",
    "        weatherData = json.loads(response.content.decode('utf-8'))\n",
    "        jdata = json.dumps(weatherData).encode('utf-8')\n",
    "        return jdata\n",
    "    else:\n",
    "        return 'Error: ' + str(response.status_code)\n",
    "\n",
    "# Define Kafka producer to send data from weather API\n",
    "weather_producer = KafkaProducer(bootstrap_servers='localhost:9092')\n",
    "\n",
    "# Define consumer\n",
    "weather_consumer = KafkaConsumer(\n",
    "    'weather.minneapolis',\n",
    "    group_id = 'group01',\n",
    "    bootstrap_servers=['localhost:9092'],\n",
    "    auto_offset_reset='earliest',\n",
    "    enable_auto_commit=True,\n",
    "    value_deserializer = lambda x: json.loads(x.decode('utf-8')))\n",
    "\n",
    "# Define function to read messages\n",
    "def read_message(message_IN):\n",
    "    data_tmp = message_IN.value\n",
    "    lat = str(data_tmp['coord']['lat'])\n",
    "    lon = str(data_tmp['coord']['lon'])\n",
    "    weather = data_tmp['weather'][0]['main']\n",
    "    temperature = round(data_tmp['main']['temp']-273.15,2)\n",
    "    utc_timestamp = data_tmp['dt']\n",
    "    cst_time = str(datetime.datetime.fromtimestamp(utc_timestamp))\n",
    "    output = 'Message received (at {time}):\\nLatitude: {lat}, Longitude: {lon}\\nCurrent Weather: {weather}\\nTemperature (deg. C): {temperature}\\n'\n",
    "    str_out = output.format(time = cst_time, lat = lat, lon = lon, weather = weather, temperature = temperature)\n",
    "    print(str_out)\n"
   ]
  },
  {
   "cell_type": "code",
   "execution_count": 10,
   "metadata": {},
   "outputs": [
    {
     "name": "stdout",
     "output_type": "stream",
     "text": [
      "Weather data produced: 0\n",
      "Weather data produced: 1\n",
      "Weather data produced: 2\n"
     ]
    }
   ],
   "source": [
    "# Query weather API every two seconds and produce message\n",
    "# Latitude and longitude of Minneapolis\n",
    "lat = '44.98'\n",
    "lon = '-93.25'\n",
    "\n",
    "# Initialize input variables\n",
    "start_time = time.time()\n",
    "query_time = 600 # in seconds\n",
    "num_messages = 3\n",
    "count = 0\n",
    "\n",
    "while count < num_messages:\n",
    "    weatherData = query_Weather(lat,lon)\n",
    "    weather_producer.send('weather.minneapolis', weatherData)\n",
    "    print('Weather data produced: ' + str(count))\n",
    "    if count != num_messages-1:\n",
    "        time.sleep(query_time)\n",
    "    count += 1\n"
   ]
  },
  {
   "cell_type": "code",
   "execution_count": null,
   "metadata": {},
   "outputs": [
    {
     "name": "stdout",
     "output_type": "stream",
     "text": [
      "Message number: 1\n",
      "Message received (at 2022-03-19 17:56:36):\n",
      "Latitude: 44.98, Longitude: -93.25\n",
      "Current Weather: Clouds\n",
      "Temperature (deg. C): 11.54\n",
      "\n",
      "Message number: 2\n",
      "Message received (at 2022-03-19 18:18:28):\n",
      "Latitude: 44.98, Longitude: -93.25\n",
      "Current Weather: Clouds\n",
      "Temperature (deg. C): 11.51\n",
      "\n",
      "Message number: 3\n",
      "Message received (at 2022-03-19 18:28:29):\n",
      "Latitude: 44.98, Longitude: -93.25\n",
      "Current Weather: Clouds\n",
      "Temperature (deg. C): 11.38\n",
      "\n",
      "Message number: 4\n",
      "Message received (at 2022-03-19 18:01:45):\n",
      "Latitude: 44.98, Longitude: -93.25\n",
      "Current Weather: Clear\n",
      "Temperature (deg. C): 11.58\n",
      "\n",
      "Message number: 5\n",
      "Message received (at 2022-03-19 18:01:45):\n",
      "Latitude: 44.98, Longitude: -93.25\n",
      "Current Weather: Clear\n",
      "Temperature (deg. C): 11.58\n",
      "\n",
      "Message number: 6\n",
      "Message received (at 2022-03-19 17:56:37):\n",
      "Latitude: 44.98, Longitude: -93.25\n",
      "Current Weather: Clouds\n",
      "Temperature (deg. C): 11.54\n",
      "\n",
      "Message number: 7\n",
      "Message received (at 2022-03-19 18:01:45):\n",
      "Latitude: 44.98, Longitude: -93.25\n",
      "Current Weather: Clear\n",
      "Temperature (deg. C): 11.58\n",
      "\n",
      "Message number: 8\n",
      "Message received (at 2022-03-19 18:01:45):\n",
      "Latitude: 44.98, Longitude: -93.25\n",
      "Current Weather: Clear\n",
      "Temperature (deg. C): 11.58\n",
      "\n"
     ]
    }
   ],
   "source": [
    "# Read messages \n",
    "message_count = 1\n",
    "for message in weather_consumer:\n",
    "    print('Message number: ' + str(message_count))\n",
    "    read_message(message)\n",
    "    message_count += 1\n"
   ]
  }
 ],
 "metadata": {
  "kernelspec": {
   "display_name": "Python 3",
   "language": "python",
   "name": "python3"
  },
  "language_info": {
   "codemirror_mode": {
    "name": "ipython",
    "version": 3
   },
   "file_extension": ".py",
   "mimetype": "text/x-python",
   "name": "python",
   "nbconvert_exporter": "python",
   "pygments_lexer": "ipython3",
   "version": "3.8.3"
  }
 },
 "nbformat": 4,
 "nbformat_minor": 4
}
